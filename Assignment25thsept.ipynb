{
 "cells": [
  {
   "cell_type": "markdown",
   "id": "66121a7f-ef70-459c-82dd-4e4fda401b7f",
   "metadata": {},
   "source": [
    "# Question 1 what kind of errors faced by us today and why?"
   ]
  },
  {
   "cell_type": "code",
   "execution_count": null,
   "id": "103a6be2-3672-4dbd-b765-60c29d2bb8a4",
   "metadata": {},
   "outputs": [],
   "source": [
    "\"\"\"The first error we faced in today's class was the \"name error\" as we initialized a variable with\n",
    "another name and the we tried to print another separate variable giving rise to the error.\n",
    "\n",
    "Example:\n",
    "TEN = 10\n",
    "ten = 20\n",
    "# TEN and ten both are different in terms of lowercase and uppercase letter\n",
    "print(Ten)\n",
    "\n",
    "we declared variables with different names with upper and lowercase and python being case sensitive in this case\n",
    "throws us the \"Name error\". Where variable name \"Ten\" is not defined by us!\n",
    "\n",
    "\"\"\"\n",
    "\n",
    "#2nd error faced by us:\n",
    "\"\"\"\n",
    "We faced our second error when we initialized a variable with a reserved keyword as it's name , and the when we tried to \n",
    "use that keyword to perform a task being named as an variable now it was unable to perform the task and we faced an error.\n",
    "\n",
    "Example:\n",
    "\n",
    "print(\"Hi there\")\n",
    "\n",
    "here \"print\" is a reserved keyword in python.which we use to print something in python.\n",
    "\n",
    "print = \"Hi there\" # as a variable\n",
    "type(print)\n",
    "\n",
    "but here we are initializing print as an variable.\n",
    "\n",
    "print(\"Hi there\")\n",
    "but now when we are trying to use it as it's regular usecase we face error that the object is not callable.We face this\n",
    "error because we already used it as a variable.\n",
    "we can correct this by deleting the print variable that we created.\n",
    "\n",
    "del print # delete the variable print\n",
    "\"\"\"\n",
    "\n",
    "#3rd error faced by us:\n",
    "\n",
    "\"\"\"\n",
    "We faced our 3rd error \"Type error\" when we initialized a string variable and tried to perform mathematical operations on it.\n",
    "\n",
    "Example:\n",
    "# calcualte the age of the user\n",
    "\n",
    "name = input(\"Name: \") # always gives you string values\n",
    "place = input(\"place: \")\n",
    "year_of_birth = input(\"year_of_birth: \")  #here we are initializing a string variable\n",
    "\n",
    "age = 2022 - year_of_birth   #here we are trying to perform mathematical operations on it.\n",
    "\n",
    "print(f\"\n",
    "My name is: {name}\n",
    "I live at: {place}\n",
    "{name} is of age: {age}\n",
    "\")\n",
    "\n",
    "That is the reason we are facing the type error because we are trying to perform operations on different string and\n",
    "integer data which is similar to performing mathematical operations between \"A\" and 1 .\n",
    "\"\"\"\n",
    "\n",
    "#4th error faced by us:\n",
    "\n",
    "\"\"\"\n",
    "\"Syntax Error\" like in other languages like Java we don't need to declare a datatype of \n",
    "a variable and while trying to do that we faced this error.\n",
    "\n",
    "example:\n",
    "\n",
    "int A\n",
    "\n",
    " File \"<ipython-input-32-1a8d28b38f60>\", line 1\n",
    "    int A\n",
    "        ^\n",
    "SyntaxError: invalid syntax\n",
    "\n",
    "\"\"\"\n",
    "\n",
    "\n",
    "#5th error:\n",
    "\n",
    "\"\"\"\n",
    "The 5th error swe encountered was a \"value error\" this appeared because we tried to pass\n",
    "float value in a variable which we typecasted as integer.\n",
    "\n",
    "Example:\n",
    "\n",
    "A = float(input(\"Enter value of A: \"))\n",
    "B = int(input(\"Enter value of B: \")) # 10.2 is float but converting to int\n",
    "\n",
    "print(f\"Sum of A and B is: {A+B}\")\n",
    "\n",
    "Enter value of A: 10.2\n",
    "Enter value of B: 10.2\n",
    "---------------------------------------------------------------------------\n",
    "ValueError                                Traceback (most recent call last)\n",
    "<ipython-input-81-66a6f430b15b> in <module>\n",
    "      1 A = float(input(\"Enter value of A: \"))\n",
    "----> 2 B = int(input(\"Enter value of B: \"))\n",
    "      3 \n",
    "      4 print(f\"Sum of A and B is: {A+B}\")\n",
    "\n",
    "ValueError: invalid literal for int() with base 10: '10.2'\n",
    "\n",
    "\"\"\""
   ]
  },
  {
   "cell_type": "markdown",
   "id": "f4a183ee-4eae-42ab-aced-70288f5f819f",
   "metadata": {},
   "source": [
    "# Question 2:Take input A and B and print their sum, mul, div, square of the nos."
   ]
  },
  {
   "cell_type": "code",
   "execution_count": 1,
   "id": "48a8edba-83d7-4767-88fd-f136fe2d94cc",
   "metadata": {},
   "outputs": [
    {
     "name": "stdin",
     "output_type": "stream",
     "text": [
      "Enter numbers:  2\n",
      "Enter numbers:  3\n"
     ]
    },
    {
     "name": "stdout",
     "output_type": "stream",
     "text": [
      "5.0\n",
      "1.0\n",
      "1.5\n",
      "the square is:  4.0\n",
      "the square is:  9.0\n"
     ]
    }
   ],
   "source": [
    "A=float(input(\"Enter numbers: \"))\n",
    "B=float(input(\"Enter numbers: \"))\n",
    "print(A+B)\n",
    "if A>B:\n",
    "    print(A-B)\n",
    "    print(A/B)\n",
    "else:\n",
    "    print(B-A)\n",
    "    print(B/A)\n",
    "print(\"the square is: \",A**2)\n",
    "print(\"the square is: \",B**2)"
   ]
  },
  {
   "cell_type": "markdown",
   "id": "ca78467e-966d-4bd6-97ee-ba8a8333fbd2",
   "metadata": {},
   "source": [
    "# Question 3. How many reserve keywords are there in python and why we should not use them as a variable name."
   ]
  },
  {
   "cell_type": "code",
   "execution_count": 3,
   "id": "a5fab00c-2b51-417c-aff4-f7b30fedcdc2",
   "metadata": {},
   "outputs": [
    {
     "data": {
      "text/plain": [
       "'\\nthere are 31 reserved keywords in python!\\n\\nWe face errors when we initialize a variable with a reserved keyword as it\\'s name , and the when we try to \\nuse that keyword to perform a task being named as an variable now it was unable to perform the task and we faced an error.\\n\\nExample:\\n\\nprint(\"Hi there\")\\n\\nhere \"print\" is a reserved keyword in python.which we use to print something in python.\\n\\nprint = \"Hi there\" # as a variable\\ntype(print)\\n\\nbut here we are initializing print as an variable.\\n\\nprint(\"Hi there\")\\nbut now when we are trying to use it as it\\'s regular usecase we face error that the object is not callable.We face this\\nerror because we already used it as a variable.\\nwe can correct this by deleting the print variable that we created.\\n\\ndel print # delete the variable print\\n\\nBy doing this we can now safely use the keyword again\\n'"
      ]
     },
     "execution_count": 3,
     "metadata": {},
     "output_type": "execute_result"
    }
   ],
   "source": [
    "\"\"\"\n",
    "there are 31 reserved keywords in python!\n",
    "\n",
    "We face errors when we initialize a variable with a reserved keyword as it's name , and the when we try to \n",
    "use that keyword to perform a task being named as an variable now it was unable to perform the task and we faced an error.\n",
    "\n",
    "Example:\n",
    "\n",
    "print(\"Hi there\")\n",
    "\n",
    "here \"print\" is a reserved keyword in python.which we use to print something in python.\n",
    "\n",
    "print = \"Hi there\" # as a variable\n",
    "type(print)\n",
    "\n",
    "but here we are initializing print as an variable.\n",
    "\n",
    "print(\"Hi there\")\n",
    "but now when we are trying to use it as it's regular usecase we face error that the object is not callable.We face this\n",
    "error because we already used it as a variable.\n",
    "we can correct this by deleting the print variable that we created.\n",
    "\n",
    "del print # delete the variable print\n",
    "\n",
    "By doing this we can now safely use the keyword again\n",
    "\"\"\""
   ]
  },
  {
   "cell_type": "markdown",
   "id": "8eca82ad-9c6f-45de-ac6d-26ccc9867e38",
   "metadata": {
    "tags": []
   },
   "source": [
    "# Question 4: Create email ids with the user inputs. in the following format - \n",
    "## \"lastname.firstname@gmail.com\""
   ]
  },
  {
   "cell_type": "code",
   "execution_count": 4,
   "id": "1c3da4f8-1334-47ea-abbf-c2d49d13a550",
   "metadata": {},
   "outputs": [
    {
     "name": "stdin",
     "output_type": "stream",
     "text": [
      "Enter Your First Name:  abc\n",
      "Enter Your Last Name:  bca\n"
     ]
    },
    {
     "name": "stdout",
     "output_type": "stream",
     "text": [
      "The Email alloted to you is : bca.abc@gmail.com\n"
     ]
    }
   ],
   "source": [
    "firstName=input(\"Enter Your First Name: \")\n",
    "lastName=input(\"Enter Your Last Name: \")\n",
    "companyName=\"@gmail.com\"\n",
    "print(f\"The Email alloted to you is : {lastName}.{firstName}{companyName}\")"
   ]
  },
  {
   "cell_type": "markdown",
   "id": "5cc2478c-f065-481b-b5ce-7833ae606252",
   "metadata": {},
   "source": [
    "# Question 5:Try to print the following lines - \n",
    "  - Hi I'm Sunny\n",
    "  - My address is 22\\3 \n",
    "  - I earn 20$ daily."
   ]
  },
  {
   "cell_type": "code",
   "execution_count": 7,
   "id": "e01659ef-0fb4-40af-ab18-ecd6843a85b1",
   "metadata": {},
   "outputs": [
    {
     "name": "stdout",
     "output_type": "stream",
     "text": [
      "Hi I'm abc\n",
      "My address is 1/16\n",
      "I earn 20$ daily\n",
      "\n"
     ]
    }
   ],
   "source": [
    "Name=\"abc\"\n",
    "Address=\"1/16\"\n",
    "Earning=\"20$\"\n",
    "print(f\"\"\"Hi I'm {Name}\n",
    "My address is {Address}\n",
    "I earn {Earning} daily\n",
    "\"\"\")"
   ]
  },
  {
   "cell_type": "markdown",
   "id": "8dd628e5-4e50-4b3c-ab00-b3d6c2e6a79e",
   "metadata": {},
   "source": [
    "# Question 6 :  Take user input (name, address, date of birth etc) to fill a form for your college and print their email IDs"
   ]
  },
  {
   "cell_type": "code",
   "execution_count": 25,
   "id": "347ea63b-2d41-4468-9703-4297cc0456f1",
   "metadata": {},
   "outputs": [
    {
     "name": "stdout",
     "output_type": "stream",
     "text": [
      "This is a form for our college students:\n"
     ]
    },
    {
     "name": "stdin",
     "output_type": "stream",
     "text": [
      "Enter the number of students you want to create the form for: 2\n",
      "Enter the name of the student:  a c\n",
      "Enter the address of the student:  a\n",
      "Enter the Date of Birth(DD/MM/YYYY):  20/11/2000\n",
      "Enter your institute name:  y\n",
      "Enter the domain name of the institute:  q\n"
     ]
    },
    {
     "name": "stdout",
     "output_type": "stream",
     "text": [
      "The email of the user is:  a.c.2000@y.q\n"
     ]
    },
    {
     "name": "stdin",
     "output_type": "stream",
     "text": [
      "Enter the name of the student:  a q\n",
      "Enter the address of the student:  abc\n",
      "Enter the Date of Birth(DD/MM/YYYY):  20/11/1000\n",
      "Enter your institute name:  p\n",
      "Enter the domain name of the institute:  a\n"
     ]
    },
    {
     "name": "stdout",
     "output_type": "stream",
     "text": [
      "The email of the user is:  a.q.1000@p.a\n"
     ]
    }
   ],
   "source": [
    "def Email(name,address,D_O_B,instituteName,domainName):\n",
    "    Email=\"\"\n",
    "    z=name.split(\" \")\n",
    "    x=D_O_B.split(\"/\")\n",
    "    Email+=(f\"{z[0]}.{z[1]}.{x[-1]}@{instituteName}.{domainName}\")\n",
    "    return Email\n",
    "    \n",
    "print(\"This is a form for our college students:\")\n",
    "n=int(input(\"Enter the number of students you want to create the form for:\"))\n",
    "for i in range(n):\n",
    "    Email1=\"\"\n",
    "    name=input(\"Enter the name of the student: \")\n",
    "    address=input(\"Enter the address of the student: \")\n",
    "    D_O_B=input(\"Enter the Date of Birth(DD/MM/YYYY): \")\n",
    "    instituteName=input(\"Enter your institute name: \")\n",
    "    domainName=input(\"Enter the domain name of the institute: \")\n",
    "    Email1+=Email(name,address,D_O_B,instituteName,domainName)\n",
    "    print(\"The email of the user is: \",Email1)"
   ]
  },
  {
   "cell_type": "markdown",
   "id": "cd81ea4c-14d8-4da6-8926-0ade64242546",
   "metadata": {},
   "source": [
    "# Questions 7  Convert the following - \n",
    "  - \"22.4\" into integer\n",
    "  - \"22\" into complex no.\n"
   ]
  },
  {
   "cell_type": "code",
   "execution_count": 28,
   "id": "3b06d533-11ad-4e7d-9672-c9851b8cc7b3",
   "metadata": {},
   "outputs": [
    {
     "name": "stdout",
     "output_type": "stream",
     "text": [
      "22\n",
      "(22+0j)\n"
     ]
    }
   ],
   "source": [
    "num=\"22.4\"\n",
    "z=float(num)\n",
    "print(int(z))\n",
    "num1=\"22\"\n",
    "z=int(num1)\n",
    "print(complex(z))"
   ]
  },
  {
   "cell_type": "code",
   "execution_count": null,
   "id": "d1990855-adce-46b0-a3da-a991328dca2a",
   "metadata": {},
   "outputs": [],
   "source": []
  }
 ],
 "metadata": {
  "kernelspec": {
   "display_name": "Python 3 (ipykernel)",
   "language": "python",
   "name": "python3"
  },
  "language_info": {
   "codemirror_mode": {
    "name": "ipython",
    "version": 3
   },
   "file_extension": ".py",
   "mimetype": "text/x-python",
   "name": "python",
   "nbconvert_exporter": "python",
   "pygments_lexer": "ipython3",
   "version": "3.9.12"
  }
 },
 "nbformat": 4,
 "nbformat_minor": 5
}
